{
  "cells": [
    {
      "cell_type": "markdown",
      "metadata": {
        "id": "i91Oi_Hcw-8k"
      },
      "source": [
        "<table>\n",
        "        <tr>\n",
        "            <th>Nama</th>\n",
        "            <th>NIM</th>\n",
        "        </tr>\n",
        "        <tr>\n",
        "            <td>Ananda Ayu Sekar Wiranti</td>\n",
        "            <td>2041720140</td>\n",
        "        </tr>\n",
        "        <tr>\n",
        "            <td>M. Favian Apta Syahputra</td>\n",
        "            <td>2041720189</td>\n",
        "        </tr>\n",
        "        <tr>\n",
        "            <td>Ony Novianti</td>\n",
        "            <td>2041720029</td>\n",
        "        </tr>\n",
        "        <tr>\n",
        "            <td>Raihan Hidayatullah Djunaedi</td>\n",
        "            <td>2041720108</td>\n",
        "        </tr>\n",
        "        <tr>\n",
        "            <td>Satria Alief Pratama Sofyan</td>\n",
        "            <td>2041720151</td>\n",
        "        </tr>\n",
        "        <tr>\n",
        "            <td>Dony Kurniawan Nurcahyo</td>\n",
        "            <td>2041720185</td>\n",
        "        </tr>\n",
        "  </table>"
      ]
    },
    {
      "cell_type": "markdown",
      "metadata": {
        "id": "6kKJFIruxH9_"
      },
      "source": [
        "> ### 1. *Scrapping* data twitter pada akun @collegemenfess menggunakan library **Twint**"
      ]
    },
    {
      "cell_type": "code",
      "execution_count": 1,
      "metadata": {
        "colab": {
          "base_uri": "https://localhost:8080/"
        },
        "id": "MS5nMTQ2w4T_",
        "outputId": "8776e2f0-010f-4f3f-dee8-b90472e4c8c0"
      },
      "outputs": [
        {
          "name": "stdout",
          "output_type": "stream",
          "text": [
            "Requirement already satisfied: twint in c:\\users\\lenovo\\appdata\\roaming\\python\\python39\\site-packages (2.1.21)\n",
            "Requirement already satisfied: elasticsearch in d:\\aplikasi\\anaconda3\\lib\\site-packages (from twint) (8.5.3)\n",
            "Requirement already satisfied: dataclasses in d:\\aplikasi\\anaconda3\\lib\\site-packages (from twint) (0.6)\n",
            "Requirement already satisfied: googletransx in d:\\aplikasi\\anaconda3\\lib\\site-packages (from twint) (2.4.2)\n",
            "Requirement already satisfied: aiodns in d:\\aplikasi\\anaconda3\\lib\\site-packages (from twint) (3.0.0)\n",
            "Requirement already satisfied: pandas in d:\\aplikasi\\anaconda3\\lib\\site-packages (from twint) (1.4.4)\n",
            "Requirement already satisfied: aiohttp-socks in d:\\aplikasi\\anaconda3\\lib\\site-packages (from twint) (0.7.1)\n",
            "Requirement already satisfied: cchardet in d:\\aplikasi\\anaconda3\\lib\\site-packages (from twint) (2.1.7)\n",
            "Requirement already satisfied: beautifulsoup4 in d:\\aplikasi\\anaconda3\\lib\\site-packages (from twint) (4.11.1)\n",
            "Requirement already satisfied: geopy in d:\\aplikasi\\anaconda3\\lib\\site-packages (from twint) (2.3.0)\n",
            "Requirement already satisfied: aiohttp in d:\\aplikasi\\anaconda3\\lib\\site-packages (from twint) (3.8.3)\n",
            "Requirement already satisfied: fake-useragent in d:\\aplikasi\\anaconda3\\lib\\site-packages (from twint) (1.1.1)\n",
            "Requirement already satisfied: pysocks in d:\\aplikasi\\anaconda3\\lib\\site-packages (from twint) (1.7.1)\n",
            "Requirement already satisfied: schedule in d:\\aplikasi\\anaconda3\\lib\\site-packages (from twint) (1.1.0)\n",
            "Requirement already satisfied: pycares>=4.0.0 in d:\\aplikasi\\anaconda3\\lib\\site-packages (from aiodns->twint) (4.2.2)\n",
            "Requirement already satisfied: yarl<2.0,>=1.0 in d:\\aplikasi\\anaconda3\\lib\\site-packages (from aiohttp->twint) (1.8.2)\n",
            "Requirement already satisfied: charset-normalizer<3.0,>=2.0 in d:\\aplikasi\\anaconda3\\lib\\site-packages (from aiohttp->twint) (2.0.4)\n",
            "Requirement already satisfied: attrs>=17.3.0 in d:\\aplikasi\\anaconda3\\lib\\site-packages (from aiohttp->twint) (21.4.0)\n",
            "Requirement already satisfied: async-timeout<5.0,>=4.0.0a3 in d:\\aplikasi\\anaconda3\\lib\\site-packages (from aiohttp->twint) (4.0.2)\n",
            "Requirement already satisfied: multidict<7.0,>=4.5 in d:\\aplikasi\\anaconda3\\lib\\site-packages (from aiohttp->twint) (6.0.3)\n",
            "Requirement already satisfied: aiosignal>=1.1.2 in d:\\aplikasi\\anaconda3\\lib\\site-packages (from aiohttp->twint) (1.3.1)\n",
            "Requirement already satisfied: frozenlist>=1.1.1 in d:\\aplikasi\\anaconda3\\lib\\site-packages (from aiohttp->twint) (1.3.3)\n",
            "Requirement already satisfied: python-socks[asyncio]<3.0.0,>=2.0.0 in d:\\aplikasi\\anaconda3\\lib\\site-packages (from aiohttp-socks->twint) (2.0.3)\n",
            "Requirement already satisfied: soupsieve>1.2 in d:\\aplikasi\\anaconda3\\lib\\site-packages (from beautifulsoup4->twint) (2.3.2.post1)\n",
            "Requirement already satisfied: elastic-transport<9,>=8 in d:\\aplikasi\\anaconda3\\lib\\site-packages (from elasticsearch->twint) (8.4.0)\n",
            "Requirement already satisfied: importlib-resources>=5.0 in d:\\aplikasi\\anaconda3\\lib\\site-packages (from fake-useragent->twint) (5.10.1)\n",
            "Requirement already satisfied: geographiclib<3,>=1.52 in d:\\aplikasi\\anaconda3\\lib\\site-packages (from geopy->twint) (2.0)\n",
            "Requirement already satisfied: requests in d:\\aplikasi\\anaconda3\\lib\\site-packages (from googletransx->twint) (2.28.1)\n",
            "Requirement already satisfied: numpy>=1.18.5 in d:\\aplikasi\\anaconda3\\lib\\site-packages (from pandas->twint) (1.21.5)\n",
            "Requirement already satisfied: python-dateutil>=2.8.1 in d:\\aplikasi\\anaconda3\\lib\\site-packages (from pandas->twint) (2.8.2)\n",
            "Requirement already satisfied: pytz>=2020.1 in d:\\aplikasi\\anaconda3\\lib\\site-packages (from pandas->twint) (2022.1)\n",
            "Requirement already satisfied: certifi in d:\\aplikasi\\anaconda3\\lib\\site-packages (from elastic-transport<9,>=8->elasticsearch->twint) (2022.9.24)\n",
            "Requirement already satisfied: urllib3<2,>=1.26.2 in d:\\aplikasi\\anaconda3\\lib\\site-packages (from elastic-transport<9,>=8->elasticsearch->twint) (1.26.12)\n",
            "Requirement already satisfied: zipp>=3.1.0 in d:\\aplikasi\\anaconda3\\lib\\site-packages (from importlib-resources>=5.0->fake-useragent->twint) (3.8.0)\n",
            "Requirement already satisfied: cffi>=1.5.0 in d:\\aplikasi\\anaconda3\\lib\\site-packages (from pycares>=4.0.0->aiodns->twint) (1.15.1)\n",
            "Requirement already satisfied: six>=1.5 in d:\\aplikasi\\anaconda3\\lib\\site-packages (from python-dateutil>=2.8.1->pandas->twint) (1.16.0)\n",
            "Requirement already satisfied: idna>=2.0 in d:\\aplikasi\\anaconda3\\lib\\site-packages (from yarl<2.0,>=1.0->aiohttp->twint) (3.4)\n",
            "Requirement already satisfied: pycparser in d:\\aplikasi\\anaconda3\\lib\\site-packages (from cffi>=1.5.0->pycares>=4.0.0->aiodns->twint) (2.21)\n",
            "Note: you may need to restart the kernel to use updated packages.\n",
            "Requirement already satisfied: nest_asyncio in d:\\aplikasi\\anaconda3\\lib\\site-packages (1.5.5)\n",
            "Note: you may need to restart the kernel to use updated packages.\n",
            "Collecting snscrape\n",
            "  Downloading snscrape-0.4.3.20220106-py3-none-any.whl (59 kB)\n",
            "     -------------------------------------- 59.1/59.1 kB 447.8 kB/s eta 0:00:00\n",
            "Requirement already satisfied: filelock in d:\\aplikasi\\anaconda3\\lib\\site-packages (from snscrape) (3.6.0)\n",
            "Requirement already satisfied: requests[socks] in d:\\aplikasi\\anaconda3\\lib\\site-packages (from snscrape) (2.28.1)\n",
            "Requirement already satisfied: lxml in d:\\aplikasi\\anaconda3\\lib\\site-packages (from snscrape) (4.9.1)\n",
            "Requirement already satisfied: beautifulsoup4 in d:\\aplikasi\\anaconda3\\lib\\site-packages (from snscrape) (4.11.1)\n",
            "Requirement already satisfied: soupsieve>1.2 in d:\\aplikasi\\anaconda3\\lib\\site-packages (from beautifulsoup4->snscrape) (2.3.2.post1)\n",
            "Requirement already satisfied: urllib3<1.27,>=1.21.1 in d:\\aplikasi\\anaconda3\\lib\\site-packages (from requests[socks]->snscrape) (1.26.12)\n",
            "Requirement already satisfied: certifi>=2017.4.17 in d:\\aplikasi\\anaconda3\\lib\\site-packages (from requests[socks]->snscrape) (2022.9.24)\n",
            "Requirement already satisfied: charset-normalizer<3,>=2 in d:\\aplikasi\\anaconda3\\lib\\site-packages (from requests[socks]->snscrape) (2.0.4)\n",
            "Requirement already satisfied: idna<4,>=2.5 in d:\\aplikasi\\anaconda3\\lib\\site-packages (from requests[socks]->snscrape) (3.4)\n",
            "Requirement already satisfied: PySocks!=1.5.7,>=1.5.6 in d:\\aplikasi\\anaconda3\\lib\\site-packages (from requests[socks]->snscrape) (1.7.1)\n",
            "Installing collected packages: snscrape\n",
            "Successfully installed snscrape-0.4.3.20220106\n",
            "Note: you may need to restart the kernel to use updated packages.\n",
            "^C\n",
            "Note: you may need to restart the kernel to use updated packages.\n"
          ]
        },
        {
          "name": "stdout",
          "output_type": "stream",
          "text": [
            "Obtaining twint from git+https://github.com/twintproject/twint.git@origin/master#egg=twint\n",
            "  Cloning https://github.com/twintproject/twint.git (to revision origin/master) to d:\\politeknik negeri malang\\ti-3a\\semester 5\\pembelajaran mesin\\minggu 16 - uas\\uas fix\\src\\twint\n",
            "  Resolved https://github.com/twintproject/twint.git to commit origin/master\n",
            "  Preparing metadata (setup.py): started\n",
            "  Preparing metadata (setup.py): finished with status 'done'\n",
            "Requirement already satisfied: aiohttp in d:\\aplikasi\\anaconda3\\lib\\site-packages (from twint) (3.8.3)\n",
            "Requirement already satisfied: aiodns in d:\\aplikasi\\anaconda3\\lib\\site-packages (from twint) (3.0.0)\n",
            "Requirement already satisfied: beautifulsoup4 in d:\\aplikasi\\anaconda3\\lib\\site-packages (from twint) (4.11.1)\n",
            "Requirement already satisfied: cchardet in d:\\aplikasi\\anaconda3\\lib\\site-packages (from twint) (2.1.7)\n",
            "Requirement already satisfied: dataclasses in d:\\aplikasi\\anaconda3\\lib\\site-packages (from twint) (0.6)\n",
            "Requirement already satisfied: elasticsearch in d:\\aplikasi\\anaconda3\\lib\\site-packages (from twint) (8.5.3)\n",
            "Requirement already satisfied: pysocks in d:\\aplikasi\\anaconda3\\lib\\site-packages (from twint) (1.7.1)\n",
            "Requirement already satisfied: pandas in d:\\aplikasi\\anaconda3\\lib\\site-packages (from twint) (1.4.4)\n",
            "Requirement already satisfied: aiohttp_socks in d:\\aplikasi\\anaconda3\\lib\\site-packages (from twint) (0.7.1)\n",
            "Requirement already satisfied: schedule in d:\\aplikasi\\anaconda3\\lib\\site-packages (from twint) (1.1.0)\n",
            "Requirement already satisfied: geopy in d:\\aplikasi\\anaconda3\\lib\\site-packages (from twint) (2.3.0)\n",
            "Requirement already satisfied: fake-useragent in d:\\aplikasi\\anaconda3\\lib\\site-packages (from twint) (1.1.1)\n",
            "Requirement already satisfied: googletransx in d:\\aplikasi\\anaconda3\\lib\\site-packages (from twint) (2.4.2)\n",
            "Requirement already satisfied: pycares>=4.0.0 in d:\\aplikasi\\anaconda3\\lib\\site-packages (from aiodns->twint) (4.2.2)\n",
            "Requirement already satisfied: yarl<2.0,>=1.0 in d:\\aplikasi\\anaconda3\\lib\\site-packages (from aiohttp->twint) (1.8.2)\n",
            "Requirement already satisfied: charset-normalizer<3.0,>=2.0 in d:\\aplikasi\\anaconda3\\lib\\site-packages (from aiohttp->twint) (2.0.4)\n",
            "Requirement already satisfied: frozenlist>=1.1.1 in d:\\aplikasi\\anaconda3\\lib\\site-packages (from aiohttp->twint) (1.3.3)\n",
            "Requirement already satisfied: async-timeout<5.0,>=4.0.0a3 in d:\\aplikasi\\anaconda3\\lib\\site-packages (from aiohttp->twint) (4.0.2)\n",
            "Requirement already satisfied: multidict<7.0,>=4.5 in d:\\aplikasi\\anaconda3\\lib\\site-packages (from aiohttp->twint) (6.0.3)\n",
            "Requirement already satisfied: aiosignal>=1.1.2 in d:\\aplikasi\\anaconda3\\lib\\site-packages (from aiohttp->twint) (1.3.1)\n",
            "Requirement already satisfied: attrs>=17.3.0 in d:\\aplikasi\\anaconda3\\lib\\site-packages (from aiohttp->twint) (21.4.0)\n",
            "Requirement already satisfied: python-socks[asyncio]<3.0.0,>=2.0.0 in d:\\aplikasi\\anaconda3\\lib\\site-packages (from aiohttp_socks->twint) (2.0.3)\n",
            "Requirement already satisfied: soupsieve>1.2 in d:\\aplikasi\\anaconda3\\lib\\site-packages (from beautifulsoup4->twint) (2.3.2.post1)\n",
            "Requirement already satisfied: elastic-transport<9,>=8 in d:\\aplikasi\\anaconda3\\lib\\site-packages (from elasticsearch->twint) (8.4.0)\n",
            "Requirement already satisfied: importlib-resources>=5.0 in d:\\aplikasi\\anaconda3\\lib\\site-packages (from fake-useragent->twint) (5.10.1)\n",
            "Requirement already satisfied: geographiclib<3,>=1.52 in d:\\aplikasi\\anaconda3\\lib\\site-packages (from geopy->twint) (2.0)\n",
            "Requirement already satisfied: requests in d:\\aplikasi\\anaconda3\\lib\\site-packages (from googletransx->twint) (2.28.1)\n",
            "Requirement already satisfied: python-dateutil>=2.8.1 in d:\\aplikasi\\anaconda3\\lib\\site-packages (from pandas->twint) (2.8.2)\n",
            "Requirement already satisfied: pytz>=2020.1 in d:\\aplikasi\\anaconda3\\lib\\site-packages (from pandas->twint) (2022.1)\n",
            "Requirement already satisfied: numpy>=1.18.5 in d:\\aplikasi\\anaconda3\\lib\\site-packages (from pandas->twint) (1.21.5)\n",
            "Requirement already satisfied: certifi in d:\\aplikasi\\anaconda3\\lib\\site-packages (from elastic-transport<9,>=8->elasticsearch->twint) (2022.9.24)\n",
            "Requirement already satisfied: urllib3<2,>=1.26.2 in d:\\aplikasi\\anaconda3\\lib\\site-packages (from elastic-transport<9,>=8->elasticsearch->twint) (1.26.12)\n",
            "Requirement already satisfied: zipp>=3.1.0 in d:\\aplikasi\\anaconda3\\lib\\site-packages (from importlib-resources>=5.0->fake-useragent->twint) (3.8.0)\n",
            "Requirement already satisfied: cffi>=1.5.0 in d:\\aplikasi\\anaconda3\\lib\\site-packages (from pycares>=4.0.0->aiodns->twint) (1.15.1)\n",
            "Requirement already satisfied: six>=1.5 in d:\\aplikasi\\anaconda3\\lib\\site-packages (from python-dateutil>=2.8.1->pandas->twint) (1.16.0)\n",
            "Requirement already satisfied: idna>=2.0 in d:\\aplikasi\\anaconda3\\lib\\site-packages (from yarl<2.0,>=1.0->aiohttp->twint) (3.4)\n",
            "Requirement already satisfied: pycparser in d:\\aplikasi\\anaconda3\\lib\\site-packages (from cffi>=1.5.0->pycares>=4.0.0->aiodns->twint) (2.21)\n",
            "Installing collected packages: twint\n",
            "  Attempting uninstall: twint\n",
            "    Found existing installation: twint 2.1.21\n",
            "    Uninstalling twint-2.1.21:\n",
            "      Successfully uninstalled twint-2.1.21\n",
            "  Running setup.py develop for twint\n",
            "Successfully installed twint-2.1.21\n"
          ]
        },
        {
          "name": "stderr",
          "output_type": "stream",
          "text": [
            "  Running command git clone --filter=blob:none --quiet https://github.com/twintproject/twint.git 'd:\\Politeknik Negeri Malang\\TI-3A\\Semester 5\\Pembelajaran Mesin\\Minggu 16 - UAS\\Uas Fix\\src\\twint'\n",
            "  WARNING: Did not find branch or tag 'origin/master', assuming revision or ref.\n",
            "  Running command git checkout -q origin/master\n"
          ]
        }
      ],
      "source": [
        "# Install Package\n",
        "%pip install twint\n",
        "%pip install nest_asyncio\n",
        "%pip install snscrape\n",
        "\n",
        "# Fix Issue with twint 20.1.20 from pip --> upgrade to 20.1.21 directly from git\n",
        "%pip install --upgrade -e git+https://github.com/twintproject/twint.git@origin/master#egg=twint"
      ]
    },
    {
      "cell_type": "code",
      "execution_count": 167,
      "metadata": {
        "id": "5rI855_hw4UF",
        "outputId": "f0c7ac86-5dc2-4b46-8d98-269f5083aea4"
      },
      "outputs": [
        {
          "name": "stdout",
          "output_type": "stream",
          "text": [
            "[!] No more data! Scraping will stop now.\n",
            "found 0 deleted tweets in this search.\n"
          ]
        }
      ],
      "source": [
        "import twint\n",
        "import nest_asyncio\n",
        "nest_asyncio.apply()\n",
        "\n",
        "# inisiasi obyek\n",
        "c = twint.Config()\n",
        "\n",
        "# config scrap\n",
        "c.Username = \"collegemenfess\"\n",
        "c.Since = \"2022-12-05\"\n",
        "c.Until = \"2022-12-11\"\n",
        "c.Limit = 5000\n",
        "c.Store_csv = True\n",
        "c.Output = \"colle_scrap.csv\"\n",
        "c.Hide_output = True\n",
        "\n",
        "# run scrap\n",
        "twint.run.Search(c)"
      ]
    },
    {
      "cell_type": "code",
      "execution_count": 125,
      "metadata": {
        "colab": {
          "base_uri": "https://localhost:8080/"
        },
        "id": "nOp-yOHGyTVJ",
        "outputId": "98d8ebd3-ec0c-4202-af4d-8375f7f4e262"
      },
      "outputs": [
        {
          "name": "stderr",
          "output_type": "stream",
          "text": [
            "[nltk_data] Downloading package stopwords to\n",
            "[nltk_data]     C:\\Users\\Lenovo\\AppData\\Roaming\\nltk_data...\n",
            "[nltk_data]   Package stopwords is already up-to-date!\n",
            "[nltk_data] Downloading package punkt to\n",
            "[nltk_data]     C:\\Users\\Lenovo\\AppData\\Roaming\\nltk_data...\n",
            "[nltk_data]   Package punkt is already up-to-date!\n"
          ]
        }
      ],
      "source": [
        "import numpy as np\n",
        "import pandas as pd\n",
        "import string\n",
        "import nltk\n",
        "import re\n",
        "nltk.download('stopwords')\n",
        "nltk.download('punkt')\n",
        "from nltk.corpus import stopwords\n",
        "from nltk.tokenize import word_tokenize\n",
        "from sklearn.feature_extraction.text import TfidfVectorizer\n",
        "from sklearn.model_selection import train_test_split\n",
        "from nltk.stem import PorterStemmer\n",
        "from nltk.stem import WordNetLemmatizer\n",
        "# ML Libraries\n",
        "from sklearn.metrics import accuracy_score\n",
        "from sklearn.naive_bayes import MultinomialNB\n",
        "from sklearn.linear_model import LogisticRegression\n",
        "from sklearn.svm import SVC\n",
        "\n",
        "# Global Parameters\n",
        "stop_words = set(stopwords.words('indonesian'))"
      ]
    },
    {
      "cell_type": "code",
      "execution_count": 126,
      "metadata": {
        "colab": {
          "base_uri": "https://localhost:8080/",
          "height": 647
        },
        "id": "S1OenAhnyY37",
        "outputId": "58c0c708-8448-4c01-d774-a2af99ff47e9"
      },
      "outputs": [
        {
          "data": {
            "text/html": [
              "<div>\n",
              "<style scoped>\n",
              "    .dataframe tbody tr th:only-of-type {\n",
              "        vertical-align: middle;\n",
              "    }\n",
              "\n",
              "    .dataframe tbody tr th {\n",
              "        vertical-align: top;\n",
              "    }\n",
              "\n",
              "    .dataframe thead th {\n",
              "        text-align: right;\n",
              "    }\n",
              "</style>\n",
              "<table border=\"1\" class=\"dataframe\">\n",
              "  <thead>\n",
              "    <tr style=\"text-align: right;\">\n",
              "      <th></th>\n",
              "      <th>id</th>\n",
              "      <th>conversation_id</th>\n",
              "      <th>created_at</th>\n",
              "      <th>date</th>\n",
              "      <th>time</th>\n",
              "      <th>timezone</th>\n",
              "      <th>user_id</th>\n",
              "      <th>username</th>\n",
              "      <th>name</th>\n",
              "      <th>place</th>\n",
              "      <th>...</th>\n",
              "      <th>geo</th>\n",
              "      <th>source</th>\n",
              "      <th>user_rt_id</th>\n",
              "      <th>user_rt</th>\n",
              "      <th>retweet_id</th>\n",
              "      <th>reply_to</th>\n",
              "      <th>retweet_date</th>\n",
              "      <th>translate</th>\n",
              "      <th>trans_src</th>\n",
              "      <th>trans_dest</th>\n",
              "    </tr>\n",
              "  </thead>\n",
              "  <tbody>\n",
              "    <tr>\n",
              "      <th>0</th>\n",
              "      <td>1601728382596964352</td>\n",
              "      <td>1601728382596964352</td>\n",
              "      <td>2022-12-11 06:59:39 SE Asia Standard Time</td>\n",
              "      <td>2022-12-11</td>\n",
              "      <td>06:59:39</td>\n",
              "      <td>700</td>\n",
              "      <td>1046084008742801408</td>\n",
              "      <td>collegemenfess</td>\n",
              "      <td>COLLE | CEK PINNED😎</td>\n",
              "      <td>NaN</td>\n",
              "      <td>...</td>\n",
              "      <td>NaN</td>\n",
              "      <td>NaN</td>\n",
              "      <td>NaN</td>\n",
              "      <td>NaN</td>\n",
              "      <td>NaN</td>\n",
              "      <td>[]</td>\n",
              "      <td>NaN</td>\n",
              "      <td>NaN</td>\n",
              "      <td>NaN</td>\n",
              "      <td>NaN</td>\n",
              "    </tr>\n",
              "    <tr>\n",
              "      <th>1</th>\n",
              "      <td>1601727590469111808</td>\n",
              "      <td>1601727590469111808</td>\n",
              "      <td>2022-12-11 06:56:30 SE Asia Standard Time</td>\n",
              "      <td>2022-12-11</td>\n",
              "      <td>06:56:30</td>\n",
              "      <td>700</td>\n",
              "      <td>1046084008742801408</td>\n",
              "      <td>collegemenfess</td>\n",
              "      <td>COLLE | CEK PINNED😎</td>\n",
              "      <td>NaN</td>\n",
              "      <td>...</td>\n",
              "      <td>NaN</td>\n",
              "      <td>NaN</td>\n",
              "      <td>NaN</td>\n",
              "      <td>NaN</td>\n",
              "      <td>NaN</td>\n",
              "      <td>[]</td>\n",
              "      <td>NaN</td>\n",
              "      <td>NaN</td>\n",
              "      <td>NaN</td>\n",
              "      <td>NaN</td>\n",
              "    </tr>\n",
              "    <tr>\n",
              "      <th>2</th>\n",
              "      <td>1601726312796033024</td>\n",
              "      <td>1601726312796033024</td>\n",
              "      <td>2022-12-11 06:51:26 SE Asia Standard Time</td>\n",
              "      <td>2022-12-11</td>\n",
              "      <td>06:51:26</td>\n",
              "      <td>700</td>\n",
              "      <td>1046084008742801408</td>\n",
              "      <td>collegemenfess</td>\n",
              "      <td>COLLE | CEK PINNED😎</td>\n",
              "      <td>NaN</td>\n",
              "      <td>...</td>\n",
              "      <td>NaN</td>\n",
              "      <td>NaN</td>\n",
              "      <td>NaN</td>\n",
              "      <td>NaN</td>\n",
              "      <td>NaN</td>\n",
              "      <td>[]</td>\n",
              "      <td>NaN</td>\n",
              "      <td>NaN</td>\n",
              "      <td>NaN</td>\n",
              "      <td>NaN</td>\n",
              "    </tr>\n",
              "    <tr>\n",
              "      <th>3</th>\n",
              "      <td>1601726216561491968</td>\n",
              "      <td>1601726216561491968</td>\n",
              "      <td>2022-12-11 06:51:03 SE Asia Standard Time</td>\n",
              "      <td>2022-12-11</td>\n",
              "      <td>06:51:03</td>\n",
              "      <td>700</td>\n",
              "      <td>1046084008742801408</td>\n",
              "      <td>collegemenfess</td>\n",
              "      <td>COLLE | CEK PINNED😎</td>\n",
              "      <td>NaN</td>\n",
              "      <td>...</td>\n",
              "      <td>NaN</td>\n",
              "      <td>NaN</td>\n",
              "      <td>NaN</td>\n",
              "      <td>NaN</td>\n",
              "      <td>NaN</td>\n",
              "      <td>[]</td>\n",
              "      <td>NaN</td>\n",
              "      <td>NaN</td>\n",
              "      <td>NaN</td>\n",
              "      <td>NaN</td>\n",
              "    </tr>\n",
              "    <tr>\n",
              "      <th>4</th>\n",
              "      <td>1601725424429453313</td>\n",
              "      <td>1601725424429453313</td>\n",
              "      <td>2022-12-11 06:47:54 SE Asia Standard Time</td>\n",
              "      <td>2022-12-11</td>\n",
              "      <td>06:47:54</td>\n",
              "      <td>700</td>\n",
              "      <td>1046084008742801408</td>\n",
              "      <td>collegemenfess</td>\n",
              "      <td>COLLE | CEK PINNED😎</td>\n",
              "      <td>NaN</td>\n",
              "      <td>...</td>\n",
              "      <td>NaN</td>\n",
              "      <td>NaN</td>\n",
              "      <td>NaN</td>\n",
              "      <td>NaN</td>\n",
              "      <td>NaN</td>\n",
              "      <td>[]</td>\n",
              "      <td>NaN</td>\n",
              "      <td>NaN</td>\n",
              "      <td>NaN</td>\n",
              "      <td>NaN</td>\n",
              "    </tr>\n",
              "  </tbody>\n",
              "</table>\n",
              "<p>5 rows × 36 columns</p>\n",
              "</div>"
            ],
            "text/plain": [
              "                    id      conversation_id  \\\n",
              "0  1601728382596964352  1601728382596964352   \n",
              "1  1601727590469111808  1601727590469111808   \n",
              "2  1601726312796033024  1601726312796033024   \n",
              "3  1601726216561491968  1601726216561491968   \n",
              "4  1601725424429453313  1601725424429453313   \n",
              "\n",
              "                                  created_at        date      time  timezone  \\\n",
              "0  2022-12-11 06:59:39 SE Asia Standard Time  2022-12-11  06:59:39       700   \n",
              "1  2022-12-11 06:56:30 SE Asia Standard Time  2022-12-11  06:56:30       700   \n",
              "2  2022-12-11 06:51:26 SE Asia Standard Time  2022-12-11  06:51:26       700   \n",
              "3  2022-12-11 06:51:03 SE Asia Standard Time  2022-12-11  06:51:03       700   \n",
              "4  2022-12-11 06:47:54 SE Asia Standard Time  2022-12-11  06:47:54       700   \n",
              "\n",
              "               user_id        username                 name  place  ... geo  \\\n",
              "0  1046084008742801408  collegemenfess  COLLE | CEK PINNED😎    NaN  ... NaN   \n",
              "1  1046084008742801408  collegemenfess  COLLE | CEK PINNED😎    NaN  ... NaN   \n",
              "2  1046084008742801408  collegemenfess  COLLE | CEK PINNED😎    NaN  ... NaN   \n",
              "3  1046084008742801408  collegemenfess  COLLE | CEK PINNED😎    NaN  ... NaN   \n",
              "4  1046084008742801408  collegemenfess  COLLE | CEK PINNED😎    NaN  ... NaN   \n",
              "\n",
              "  source user_rt_id user_rt retweet_id  reply_to  retweet_date  translate  \\\n",
              "0    NaN        NaN     NaN        NaN        []           NaN        NaN   \n",
              "1    NaN        NaN     NaN        NaN        []           NaN        NaN   \n",
              "2    NaN        NaN     NaN        NaN        []           NaN        NaN   \n",
              "3    NaN        NaN     NaN        NaN        []           NaN        NaN   \n",
              "4    NaN        NaN     NaN        NaN        []           NaN        NaN   \n",
              "\n",
              "  trans_src trans_dest  \n",
              "0       NaN        NaN  \n",
              "1       NaN        NaN  \n",
              "2       NaN        NaN  \n",
              "3       NaN        NaN  \n",
              "4       NaN        NaN  \n",
              "\n",
              "[5 rows x 36 columns]"
            ]
          },
          "execution_count": 126,
          "metadata": {},
          "output_type": "execute_result"
        }
      ],
      "source": [
        "# Load dataset\n",
        "dataset = pd.read_csv('colle_scrap.csv')\n",
        "dataset.head()"
      ]
    },
    {
      "cell_type": "markdown",
      "metadata": {
        "id": "dpQhOVQHyMMt"
      },
      "source": [
        "#### Preprocesing"
      ]
    },
    {
      "cell_type": "code",
      "execution_count": 127,
      "metadata": {
        "colab": {
          "base_uri": "https://localhost:8080/",
          "height": 363
        },
        "id": "rUkMiiWhw4UH",
        "outputId": "e44613a1-c094-4152-855d-cf255fecaed3"
      },
      "outputs": [
        {
          "data": {
            "text/html": [
              "<div>\n",
              "<style scoped>\n",
              "    .dataframe tbody tr th:only-of-type {\n",
              "        vertical-align: middle;\n",
              "    }\n",
              "\n",
              "    .dataframe tbody tr th {\n",
              "        vertical-align: top;\n",
              "    }\n",
              "\n",
              "    .dataframe thead th {\n",
              "        text-align: right;\n",
              "    }\n",
              "</style>\n",
              "<table border=\"1\" class=\"dataframe\">\n",
              "  <thead>\n",
              "    <tr style=\"text-align: right;\">\n",
              "      <th></th>\n",
              "      <th>tweet</th>\n",
              "    </tr>\n",
              "  </thead>\n",
              "  <tbody>\n",
              "    <tr>\n",
              "      <th>0</th>\n",
              "      <td>[cm] bisa ga sih skripsi tuh diilangin aja 🥲</td>\n",
              "    </tr>\n",
              "    <tr>\n",
              "      <th>1</th>\n",
              "      <td>[cm] tolong infonya ya makasih guys  https://t...</td>\n",
              "    </tr>\n",
              "    <tr>\n",
              "      <th>2</th>\n",
              "      <td>[cm] gaiss ada yg tau cara nyari jumlah atau d...</td>\n",
              "    </tr>\n",
              "    <tr>\n",
              "      <th>3</th>\n",
              "      <td>Besok aku praktik pertama kalinya di rumah sak...</td>\n",
              "    </tr>\n",
              "    <tr>\n",
              "      <th>4</th>\n",
              "      <td>ayooo bantu sender nyetok bahan2!! tia [cm]  h...</td>\n",
              "    </tr>\n",
              "    <tr>\n",
              "      <th>5</th>\n",
              "      <td>[cm] spek laptop gini buat anak arsi cukup gak...</td>\n",
              "    </tr>\n",
              "    <tr>\n",
              "      <th>6</th>\n",
              "      <td>[cm] kira2 sopan gak ya ngechat dosbing hari i...</td>\n",
              "    </tr>\n",
              "    <tr>\n",
              "      <th>7</th>\n",
              "      <td>Siapa yang pernah di posisi ini, ada solusi ga...</td>\n",
              "    </tr>\n",
              "    <tr>\n",
              "      <th>8</th>\n",
              "      <td>[Cm] ada mahasiswa magister akuntansi/ekonomi ...</td>\n",
              "    </tr>\n",
              "    <tr>\n",
              "      <th>9</th>\n",
              "      <td>[cm] Gais kampus pendidikan yg terkenal di Ind...</td>\n",
              "    </tr>\n",
              "  </tbody>\n",
              "</table>\n",
              "</div>"
            ],
            "text/plain": [
              "                                               tweet\n",
              "0       [cm] bisa ga sih skripsi tuh diilangin aja 🥲\n",
              "1  [cm] tolong infonya ya makasih guys  https://t...\n",
              "2  [cm] gaiss ada yg tau cara nyari jumlah atau d...\n",
              "3  Besok aku praktik pertama kalinya di rumah sak...\n",
              "4  ayooo bantu sender nyetok bahan2!! tia [cm]  h...\n",
              "5  [cm] spek laptop gini buat anak arsi cukup gak...\n",
              "6  [cm] kira2 sopan gak ya ngechat dosbing hari i...\n",
              "7  Siapa yang pernah di posisi ini, ada solusi ga...\n",
              "8  [Cm] ada mahasiswa magister akuntansi/ekonomi ...\n",
              "9  [cm] Gais kampus pendidikan yg terkenal di Ind..."
            ]
          },
          "execution_count": 127,
          "metadata": {},
          "output_type": "execute_result"
        }
      ],
      "source": [
        "# menghapus colom yang tidak digunakan\n",
        "dataset = dataset.drop(dataset.iloc[:,0:10], axis=1)\n",
        "dataset = dataset.drop(dataset.iloc[:,1:], axis=1)\n",
        "dataset.head(10)"
      ]
    },
    {
      "cell_type": "code",
      "execution_count": 128,
      "metadata": {
        "id": "r0LFvTSRw4UH"
      },
      "outputs": [],
      "source": [
        "#CASE FOLDING :Pengubahan huruf besar ke huruf kecil \n",
        "def clean_lower(lwr):\n",
        "    lwr = lwr.lower() # mengubah menjadi lowercase text\n",
        "    return lwr\n",
        "\n",
        "# Tokenizing : Penghapusan url\n",
        "def clean_url(tweet):\n",
        "    tweet = re.sub(r\"http\\S+|www\\S+|https\\S+|@\\S+\", '', tweet, flags=re.MULTILINE)\n",
        "    return tweet\n",
        "\n",
        "#Tokenizing : penghapusan karakter (@, '', \"\", dll) dan angka\n",
        "#Remove Puncutuation\n",
        "clean_spcl = re.compile('[/(){}\\[\\]\\|@,;][c][m]')\n",
        "clean_symbol = re.compile('[^0-9a-z]')\n",
        "def clean_punct(text):\n",
        "    text = clean_spcl.sub('', text)\n",
        "    text = clean_symbol.sub(' ', text)\n",
        "    return text\n",
        "\n",
        "#Tokenizing : Penghapusan Spasi yang berlebihan \n",
        "def _normalize_whitespace(text):\n",
        "    corrected = str(text)\n",
        "    corrected = re.sub(r\"//t\",r\"\\t\", corrected)\n",
        "    corrected = re.sub(r\"( )\\1+\",r\"\\1\", corrected)\n",
        "    corrected = re.sub(r\"(\\n)\\1+\",r\"\\1\", corrected)\n",
        "    corrected = re.sub(r\"(\\r)\\1+\",r\"\\1\", corrected)\n",
        "    corrected = re.sub(r\"(\\t)\\1+\",r\"\\1\", corrected)\n",
        "    return corrected.strip(\" \")\n",
        "\n",
        "# Tokenizing : Penghapusan number\n",
        "def remove_number(text):\n",
        "    return  re.sub(r\"\\d+\", \"\", text)"
      ]
    },
    {
      "cell_type": "code",
      "execution_count": 129,
      "metadata": {
        "colab": {
          "base_uri": "https://localhost:8080/",
          "height": 206
        },
        "id": "UJH23KDxw4UI",
        "outputId": "6bf59188-462d-4af0-dbd0-bd39230009d1"
      },
      "outputs": [
        {
          "data": {
            "text/html": [
              "<div>\n",
              "<style scoped>\n",
              "    .dataframe tbody tr th:only-of-type {\n",
              "        vertical-align: middle;\n",
              "    }\n",
              "\n",
              "    .dataframe tbody tr th {\n",
              "        vertical-align: top;\n",
              "    }\n",
              "\n",
              "    .dataframe thead th {\n",
              "        text-align: right;\n",
              "    }\n",
              "</style>\n",
              "<table border=\"1\" class=\"dataframe\">\n",
              "  <thead>\n",
              "    <tr style=\"text-align: right;\">\n",
              "      <th></th>\n",
              "      <th>tweet</th>\n",
              "      <th>content</th>\n",
              "    </tr>\n",
              "  </thead>\n",
              "  <tbody>\n",
              "    <tr>\n",
              "      <th>0</th>\n",
              "      <td>[cm] bisa ga sih skripsi tuh diilangin aja 🥲</td>\n",
              "      <td>bisa ga sih skripsi tuh diilangin aja</td>\n",
              "    </tr>\n",
              "    <tr>\n",
              "      <th>1</th>\n",
              "      <td>[cm] tolong infonya ya makasih guys  https://t...</td>\n",
              "      <td>tolong infonya ya makasih guys</td>\n",
              "    </tr>\n",
              "    <tr>\n",
              "      <th>2</th>\n",
              "      <td>[cm] gaiss ada yg tau cara nyari jumlah atau d...</td>\n",
              "      <td>gaiss ada yg tau cara nyari jumlah atau daftar...</td>\n",
              "    </tr>\n",
              "    <tr>\n",
              "      <th>3</th>\n",
              "      <td>Besok aku praktik pertama kalinya di rumah sak...</td>\n",
              "      <td>besok aku praktik pertama kalinya di rumah sak...</td>\n",
              "    </tr>\n",
              "    <tr>\n",
              "      <th>4</th>\n",
              "      <td>ayooo bantu sender nyetok bahan2!! tia [cm]  h...</td>\n",
              "      <td>ayooo bantu sender nyetok bahan tia</td>\n",
              "    </tr>\n",
              "  </tbody>\n",
              "</table>\n",
              "</div>"
            ],
            "text/plain": [
              "                                               tweet  \\\n",
              "0       [cm] bisa ga sih skripsi tuh diilangin aja 🥲   \n",
              "1  [cm] tolong infonya ya makasih guys  https://t...   \n",
              "2  [cm] gaiss ada yg tau cara nyari jumlah atau d...   \n",
              "3  Besok aku praktik pertama kalinya di rumah sak...   \n",
              "4  ayooo bantu sender nyetok bahan2!! tia [cm]  h...   \n",
              "\n",
              "                                             content  \n",
              "0              bisa ga sih skripsi tuh diilangin aja  \n",
              "1                     tolong infonya ya makasih guys  \n",
              "2  gaiss ada yg tau cara nyari jumlah atau daftar...  \n",
              "3  besok aku praktik pertama kalinya di rumah sak...  \n",
              "4                ayooo bantu sender nyetok bahan tia  "
            ]
          },
          "execution_count": 129,
          "metadata": {},
          "output_type": "execute_result"
        }
      ],
      "source": [
        "# Membuat kolom baru untuk hasil konten yang telah dilakukan preprocesing\n",
        "dataset['content'] = dataset['tweet'].apply(clean_lower).apply(clean_url).apply(clean_punct).apply(_normalize_whitespace).apply(remove_number)\n",
        "\n",
        "dataset.head()"
      ]
    },
    {
      "cell_type": "markdown",
      "metadata": {
        "id": "3jqzGZoWzpOb"
      },
      "source": [
        "#### 2. Model Clustering berdasarkan data (positif, netral, negatif)"
      ]
    },
    {
      "cell_type": "code",
      "execution_count": 130,
      "metadata": {
        "colab": {
          "base_uri": "https://localhost:8080/",
          "height": 206
        },
        "id": "-P_5AILgw4UI",
        "outputId": "ca44d7bd-b5d6-4954-e9d3-66cbae73db89"
      },
      "outputs": [
        {
          "data": {
            "text/html": [
              "<div>\n",
              "<style scoped>\n",
              "    .dataframe tbody tr th:only-of-type {\n",
              "        vertical-align: middle;\n",
              "    }\n",
              "\n",
              "    .dataframe tbody tr th {\n",
              "        vertical-align: top;\n",
              "    }\n",
              "\n",
              "    .dataframe thead th {\n",
              "        text-align: right;\n",
              "    }\n",
              "</style>\n",
              "<table border=\"1\" class=\"dataframe\">\n",
              "  <thead>\n",
              "    <tr style=\"text-align: right;\">\n",
              "      <th></th>\n",
              "      <th>tweet</th>\n",
              "      <th>content</th>\n",
              "      <th>encode content</th>\n",
              "    </tr>\n",
              "  </thead>\n",
              "  <tbody>\n",
              "    <tr>\n",
              "      <th>0</th>\n",
              "      <td>[cm] bisa ga sih skripsi tuh diilangin aja 🥲</td>\n",
              "      <td>bisa ga sih skripsi tuh diilangin aja</td>\n",
              "      <td>837</td>\n",
              "    </tr>\n",
              "    <tr>\n",
              "      <th>1</th>\n",
              "      <td>[cm] tolong infonya ya makasih guys  https://t...</td>\n",
              "      <td>tolong infonya ya makasih guys</td>\n",
              "      <td>4641</td>\n",
              "    </tr>\n",
              "    <tr>\n",
              "      <th>2</th>\n",
              "      <td>[cm] gaiss ada yg tau cara nyari jumlah atau d...</td>\n",
              "      <td>gaiss ada yg tau cara nyari jumlah atau daftar...</td>\n",
              "      <td>1395</td>\n",
              "    </tr>\n",
              "    <tr>\n",
              "      <th>3</th>\n",
              "      <td>Besok aku praktik pertama kalinya di rumah sak...</td>\n",
              "      <td>besok aku praktik pertama kalinya di rumah sak...</td>\n",
              "      <td>793</td>\n",
              "    </tr>\n",
              "    <tr>\n",
              "      <th>4</th>\n",
              "      <td>ayooo bantu sender nyetok bahan2!! tia [cm]  h...</td>\n",
              "      <td>ayooo bantu sender nyetok bahan tia</td>\n",
              "      <td>693</td>\n",
              "    </tr>\n",
              "  </tbody>\n",
              "</table>\n",
              "</div>"
            ],
            "text/plain": [
              "                                               tweet  \\\n",
              "0       [cm] bisa ga sih skripsi tuh diilangin aja 🥲   \n",
              "1  [cm] tolong infonya ya makasih guys  https://t...   \n",
              "2  [cm] gaiss ada yg tau cara nyari jumlah atau d...   \n",
              "3  Besok aku praktik pertama kalinya di rumah sak...   \n",
              "4  ayooo bantu sender nyetok bahan2!! tia [cm]  h...   \n",
              "\n",
              "                                             content  encode content  \n",
              "0              bisa ga sih skripsi tuh diilangin aja             837  \n",
              "1                     tolong infonya ya makasih guys            4641  \n",
              "2  gaiss ada yg tau cara nyari jumlah atau daftar...            1395  \n",
              "3  besok aku praktik pertama kalinya di rumah sak...             793  \n",
              "4                ayooo bantu sender nyetok bahan tia             693  "
            ]
          },
          "execution_count": 130,
          "metadata": {},
          "output_type": "execute_result"
        }
      ],
      "source": [
        "# membuat kolom baru, dan melakukan encode untuk mengonvert dataset ke numerik\n",
        "from sklearn.preprocessing import LabelEncoder\n",
        "\n",
        "encode = LabelEncoder()\n",
        "content = encode.fit_transform(dataset['content'])\n",
        "dataset_content = pd.DataFrame(content)\n",
        "\n",
        "dataset['encode content'] = dataset_content\n",
        "\n",
        "# cek data\n",
        "dataset.head()"
      ]
    },
    {
      "cell_type": "code",
      "execution_count": 131,
      "metadata": {
        "id": "skroO69Kw4UJ"
      },
      "outputs": [],
      "source": [
        "# menentukan colom mana yang digunakan sebagai features untuk data scaling\n",
        "dataset_columns = pd.DataFrame({\n",
        "    'encode content': dataset['encode content']\n",
        "})\n",
        "\n",
        "col_names = dataset_columns.columns\n",
        "features = dataset_columns[col_names]"
      ]
    },
    {
      "cell_type": "code",
      "execution_count": 132,
      "metadata": {
        "id": "zsoFDOsDw4UK"
      },
      "outputs": [],
      "source": [
        "# scalling data\n",
        "from sklearn.preprocessing import StandardScaler\n",
        "\n",
        "# proses scaling berdasarkan features yang telah ditentukan\n",
        "scaler = StandardScaler()\n",
        "scaler.fit(features.values)\n",
        "dataset_scaled = scaler.transform(features.values)\n",
        "\n",
        "# hasil dari scalling nantinya akan ditampung di variabel dataset_scaled\n",
        "dataset_scaled = pd.DataFrame(dataset_scaled, columns=col_names)"
      ]
    },
    {
      "cell_type": "code",
      "execution_count": 133,
      "metadata": {
        "id": "Pk5xhnhGw4UL"
      },
      "outputs": [],
      "source": [
        "# Menentukkan jumlah cluster menggunakan library k-means\n",
        "from sklearn.cluster import KMeans\n",
        "\n",
        "# n nya 3 karena ada 3 jenis komentar yaitu positif,negatif,netral. \n",
        "km = KMeans(n_clusters=3)\n",
        "y_predicted = km.fit_predict(dataset_scaled[['encode content']])\n",
        "y_predicted\n",
        "\n",
        "# untuk menampung hasil clustering\n",
        "dataset_columns['jenis_Komentar'] = y_predicted"
      ]
    },
    {
      "cell_type": "code",
      "execution_count": 134,
      "metadata": {
        "id": "e03YuUC00X3G"
      },
      "outputs": [],
      "source": [
        "# Membuat fungsi untuk menentukan jenis komentar\n",
        "dataset1 = dataset_columns[dataset_columns.jenis_Komentar==0]\n",
        "dataset2 = dataset_columns[dataset_columns.jenis_Komentar==1]\n",
        "dataset3 = dataset_columns[dataset_columns.jenis_Komentar==2]\n",
        "\n",
        "# menentukkan jenis komentar yang berniali 0 itu positif , 1 negatif dan 2 netral\n",
        "conditions = [\n",
        "    (dataset_columns['jenis_Komentar']==0),\n",
        "    (dataset_columns['jenis_Komentar']==1),\n",
        "    (dataset_columns['jenis_Komentar']==2)]\n",
        "choices = ['Positif','Negativ','Netral']\n",
        "dataset_columns['jenis_Komentar'] = np.select(conditions, choices)"
      ]
    },
    {
      "cell_type": "code",
      "execution_count": 135,
      "metadata": {
        "colab": {
          "base_uri": "https://localhost:8080/",
          "height": 206
        },
        "id": "lQdkkkVl0azm",
        "outputId": "2eae7565-dc36-4da7-a9c5-435f75cfcb65"
      },
      "outputs": [
        {
          "data": {
            "text/html": [
              "<div>\n",
              "<style scoped>\n",
              "    .dataframe tbody tr th:only-of-type {\n",
              "        vertical-align: middle;\n",
              "    }\n",
              "\n",
              "    .dataframe tbody tr th {\n",
              "        vertical-align: top;\n",
              "    }\n",
              "\n",
              "    .dataframe thead th {\n",
              "        text-align: right;\n",
              "    }\n",
              "</style>\n",
              "<table border=\"1\" class=\"dataframe\">\n",
              "  <thead>\n",
              "    <tr style=\"text-align: right;\">\n",
              "      <th></th>\n",
              "      <th>content</th>\n",
              "      <th>jenis_komentar</th>\n",
              "    </tr>\n",
              "  </thead>\n",
              "  <tbody>\n",
              "    <tr>\n",
              "      <th>0</th>\n",
              "      <td>bisa ga sih skripsi tuh diilangin aja</td>\n",
              "      <td>Positif</td>\n",
              "    </tr>\n",
              "    <tr>\n",
              "      <th>1</th>\n",
              "      <td>tolong infonya ya makasih guys</td>\n",
              "      <td>Negativ</td>\n",
              "    </tr>\n",
              "    <tr>\n",
              "      <th>2</th>\n",
              "      <td>gaiss ada yg tau cara nyari jumlah atau daftar...</td>\n",
              "      <td>Positif</td>\n",
              "    </tr>\n",
              "    <tr>\n",
              "      <th>3</th>\n",
              "      <td>besok aku praktik pertama kalinya di rumah sak...</td>\n",
              "      <td>Positif</td>\n",
              "    </tr>\n",
              "    <tr>\n",
              "      <th>4</th>\n",
              "      <td>ayooo bantu sender nyetok bahan tia</td>\n",
              "      <td>Positif</td>\n",
              "    </tr>\n",
              "  </tbody>\n",
              "</table>\n",
              "</div>"
            ],
            "text/plain": [
              "                                             content jenis_komentar\n",
              "0              bisa ga sih skripsi tuh diilangin aja        Positif\n",
              "1                     tolong infonya ya makasih guys        Negativ\n",
              "2  gaiss ada yg tau cara nyari jumlah atau daftar...        Positif\n",
              "3  besok aku praktik pertama kalinya di rumah sak...        Positif\n",
              "4                ayooo bantu sender nyetok bahan tia        Positif"
            ]
          },
          "execution_count": 135,
          "metadata": {},
          "output_type": "execute_result"
        }
      ],
      "source": [
        "# menambahkan kolom baru yaitu jenis_komentar dimana isi datanya mengambil dari hasil clusteriing  \n",
        "dataset['jenis_komentar'] = dataset_columns['jenis_Komentar']\n",
        "\n",
        "dataset = pd.DataFrame({\n",
        "    'content': dataset['content'],\n",
        "    'jenis_komentar': dataset['jenis_komentar']\n",
        "})\n",
        "\n",
        "# cek data \n",
        "dataset.head()"
      ]
    },
    {
      "cell_type": "markdown",
      "metadata": {
        "id": "q8gsWconw4UM"
      },
      "source": [
        "### 3. Labeling sesuai sentiment yang telah ditentukan"
      ]
    },
    {
      "cell_type": "code",
      "execution_count": 136,
      "metadata": {
        "colab": {
          "base_uri": "https://localhost:8080/",
          "height": 206
        },
        "id": "-A1l94QYw4UP",
        "outputId": "73d9f3ef-00a4-419e-fec6-7d6c304af552"
      },
      "outputs": [
        {
          "data": {
            "text/html": [
              "<div>\n",
              "<style scoped>\n",
              "    .dataframe tbody tr th:only-of-type {\n",
              "        vertical-align: middle;\n",
              "    }\n",
              "\n",
              "    .dataframe tbody tr th {\n",
              "        vertical-align: top;\n",
              "    }\n",
              "\n",
              "    .dataframe thead th {\n",
              "        text-align: right;\n",
              "    }\n",
              "</style>\n",
              "<table border=\"1\" class=\"dataframe\">\n",
              "  <thead>\n",
              "    <tr style=\"text-align: right;\">\n",
              "      <th></th>\n",
              "      <th>content</th>\n",
              "      <th>jenis_komentar</th>\n",
              "    </tr>\n",
              "  </thead>\n",
              "  <tbody>\n",
              "    <tr>\n",
              "      <th>0</th>\n",
              "      <td>bisa ga sih skripsi tuh diilangin aja</td>\n",
              "      <td>Positif</td>\n",
              "    </tr>\n",
              "    <tr>\n",
              "      <th>1</th>\n",
              "      <td>tolong infonya ya makasih guys</td>\n",
              "      <td>Negativ</td>\n",
              "    </tr>\n",
              "    <tr>\n",
              "      <th>2</th>\n",
              "      <td>gaiss ada yg tau cara nyari jumlah atau daftar...</td>\n",
              "      <td>Positif</td>\n",
              "    </tr>\n",
              "    <tr>\n",
              "      <th>3</th>\n",
              "      <td>besok aku praktik pertama kalinya di rumah sak...</td>\n",
              "      <td>Positif</td>\n",
              "    </tr>\n",
              "    <tr>\n",
              "      <th>4</th>\n",
              "      <td>ayooo bantu sender nyetok bahan tia</td>\n",
              "      <td>Positif</td>\n",
              "    </tr>\n",
              "  </tbody>\n",
              "</table>\n",
              "</div>"
            ],
            "text/plain": [
              "                                             content jenis_komentar\n",
              "0              bisa ga sih skripsi tuh diilangin aja        Positif\n",
              "1                     tolong infonya ya makasih guys        Negativ\n",
              "2  gaiss ada yg tau cara nyari jumlah atau daftar...        Positif\n",
              "3  besok aku praktik pertama kalinya di rumah sak...        Positif\n",
              "4                ayooo bantu sender nyetok bahan tia        Positif"
            ]
          },
          "execution_count": 136,
          "metadata": {},
          "output_type": "execute_result"
        }
      ],
      "source": [
        "# Memilih Data mana yang akan digunakan\n",
        "dataset = pd.DataFrame({\n",
        "    'content' : dataset['content'],\n",
        "    'jenis_komentar' : dataset['jenis_komentar']\n",
        "})\n",
        "dataset.head()"
      ]
    },
    {
      "cell_type": "code",
      "execution_count": 137,
      "metadata": {
        "colab": {
          "base_uri": "https://localhost:8080/",
          "height": 206
        },
        "id": "nDtf6rA6w4UQ",
        "outputId": "530dc059-64cd-49a9-986d-3debdadbf6f7"
      },
      "outputs": [
        {
          "data": {
            "text/html": [
              "<div>\n",
              "<style scoped>\n",
              "    .dataframe tbody tr th:only-of-type {\n",
              "        vertical-align: middle;\n",
              "    }\n",
              "\n",
              "    .dataframe tbody tr th {\n",
              "        vertical-align: top;\n",
              "    }\n",
              "\n",
              "    .dataframe thead th {\n",
              "        text-align: right;\n",
              "    }\n",
              "</style>\n",
              "<table border=\"1\" class=\"dataframe\">\n",
              "  <thead>\n",
              "    <tr style=\"text-align: right;\">\n",
              "      <th></th>\n",
              "      <th>content</th>\n",
              "      <th>Labels</th>\n",
              "    </tr>\n",
              "  </thead>\n",
              "  <tbody>\n",
              "    <tr>\n",
              "      <th>0</th>\n",
              "      <td>bisa ga sih skripsi tuh diilangin aja</td>\n",
              "      <td>Positif</td>\n",
              "    </tr>\n",
              "    <tr>\n",
              "      <th>1</th>\n",
              "      <td>tolong infonya ya makasih guys</td>\n",
              "      <td>Negativ</td>\n",
              "    </tr>\n",
              "    <tr>\n",
              "      <th>2</th>\n",
              "      <td>gaiss ada yg tau cara nyari jumlah atau daftar...</td>\n",
              "      <td>Positif</td>\n",
              "    </tr>\n",
              "    <tr>\n",
              "      <th>3</th>\n",
              "      <td>besok aku praktik pertama kalinya di rumah sak...</td>\n",
              "      <td>Positif</td>\n",
              "    </tr>\n",
              "    <tr>\n",
              "      <th>4</th>\n",
              "      <td>ayooo bantu sender nyetok bahan tia</td>\n",
              "      <td>Positif</td>\n",
              "    </tr>\n",
              "  </tbody>\n",
              "</table>\n",
              "</div>"
            ],
            "text/plain": [
              "                                             content   Labels\n",
              "0              bisa ga sih skripsi tuh diilangin aja  Positif\n",
              "1                     tolong infonya ya makasih guys  Negativ\n",
              "2  gaiss ada yg tau cara nyari jumlah atau daftar...  Positif\n",
              "3  besok aku praktik pertama kalinya di rumah sak...  Positif\n",
              "4                ayooo bantu sender nyetok bahan tia  Positif"
            ]
          },
          "execution_count": 137,
          "metadata": {},
          "output_type": "execute_result"
        }
      ],
      "source": [
        "new_cols = {\n",
        "    'jenis_komentar' : 'Labels',\n",
        "\n",
        "}\n",
        "#rename nama kolom jenis_komentar\n",
        "dataset = dataset.rename(columns=new_cols)\n",
        "dataset.head()"
      ]
    },
    {
      "cell_type": "code",
      "execution_count": 138,
      "metadata": {
        "colab": {
          "base_uri": "https://localhost:8080/",
          "height": 206
        },
        "id": "8ZWNsYasw4UR",
        "outputId": "5723ab68-a726-47a1-a26b-2b0fdc85e688"
      },
      "outputs": [
        {
          "data": {
            "text/html": [
              "<div>\n",
              "<style scoped>\n",
              "    .dataframe tbody tr th:only-of-type {\n",
              "        vertical-align: middle;\n",
              "    }\n",
              "\n",
              "    .dataframe tbody tr th {\n",
              "        vertical-align: top;\n",
              "    }\n",
              "\n",
              "    .dataframe thead th {\n",
              "        text-align: right;\n",
              "    }\n",
              "</style>\n",
              "<table border=\"1\" class=\"dataframe\">\n",
              "  <thead>\n",
              "    <tr style=\"text-align: right;\">\n",
              "      <th></th>\n",
              "      <th>content</th>\n",
              "      <th>Labels</th>\n",
              "    </tr>\n",
              "  </thead>\n",
              "  <tbody>\n",
              "    <tr>\n",
              "      <th>0</th>\n",
              "      <td>bisa ga sih skripsi tuh diilangin aja</td>\n",
              "      <td>2</td>\n",
              "    </tr>\n",
              "    <tr>\n",
              "      <th>1</th>\n",
              "      <td>tolong infonya ya makasih guys</td>\n",
              "      <td>0</td>\n",
              "    </tr>\n",
              "    <tr>\n",
              "      <th>2</th>\n",
              "      <td>gaiss ada yg tau cara nyari jumlah atau daftar...</td>\n",
              "      <td>2</td>\n",
              "    </tr>\n",
              "    <tr>\n",
              "      <th>3</th>\n",
              "      <td>besok aku praktik pertama kalinya di rumah sak...</td>\n",
              "      <td>2</td>\n",
              "    </tr>\n",
              "    <tr>\n",
              "      <th>4</th>\n",
              "      <td>ayooo bantu sender nyetok bahan tia</td>\n",
              "      <td>2</td>\n",
              "    </tr>\n",
              "  </tbody>\n",
              "</table>\n",
              "</div>"
            ],
            "text/plain": [
              "                                             content  Labels\n",
              "0              bisa ga sih skripsi tuh diilangin aja       2\n",
              "1                     tolong infonya ya makasih guys       0\n",
              "2  gaiss ada yg tau cara nyari jumlah atau daftar...       2\n",
              "3  besok aku praktik pertama kalinya di rumah sak...       2\n",
              "4                ayooo bantu sender nyetok bahan tia       2"
            ]
          },
          "execution_count": 138,
          "metadata": {},
          "output_type": "execute_result"
        }
      ],
      "source": [
        "# Mengubah data kategorik menjadi data numerik \n",
        "from sklearn.preprocessing import LabelEncoder\n",
        "\n",
        "encode = LabelEncoder()\n",
        "dataset['Labels'] = encode.fit_transform(dataset['Labels'])\n",
        "\n",
        "# cek data\n",
        "dataset.head()"
      ]
    },
    {
      "cell_type": "code",
      "execution_count": 139,
      "metadata": {
        "id": "Twf-M404w4US"
      },
      "outputs": [],
      "source": [
        "# Memisahkan Fitur dengan Label\n",
        "X = dataset['content']\n",
        "y = dataset['Labels']"
      ]
    },
    {
      "cell_type": "code",
      "execution_count": 140,
      "metadata": {
        "id": "54h0rLT5w4UT"
      },
      "outputs": [],
      "source": [
        "# Split data training dan testing\n",
        "from sklearn.model_selection import train_test_split\n",
        "\n",
        "X_train, X_test, y_train, y_test = train_test_split(X, y, test_size=0.2, random_state=1)"
      ]
    },
    {
      "cell_type": "code",
      "execution_count": 162,
      "metadata": {
        "id": "k7LPrlHkw4UT"
      },
      "outputs": [],
      "source": [
        "# Ekstrasi Fitur menggunakan Bag of Words dengan fungsi CountVectorizer \n",
        "from sklearn.model_selection import train_test_split\n",
        "from sklearn.feature_extraction.text import CountVectorizer\n",
        "\n",
        "# Split data training dan testing\n",
        "X_train, X_test, y_train, y_test = train_test_split(X, y, test_size=0.2, random_state=50)\n",
        "\n",
        "# Inisiasi CountVectorizer\n",
        "bow = CountVectorizer(stop_words='english')\n",
        "\n",
        "# Fitting dan transform X_train dengan CountVectorizer\n",
        "X_train = bow.fit_transform(X_train)\n",
        "\n",
        "# Transform X_test\n",
        "X_test = bow.transform(X_test)"
      ]
    },
    {
      "cell_type": "markdown",
      "metadata": {
        "id": "KTCq8DQ205p2"
      },
      "source": [
        "### 4. Model Klasifikasi beserta evaluasi model"
      ]
    },
    {
      "cell_type": "markdown",
      "metadata": {
        "id": "ypvyyvWL0992"
      },
      "source": [
        "##### Decision Tree"
      ]
    },
    {
      "cell_type": "code",
      "execution_count": 163,
      "metadata": {
        "colab": {
          "base_uri": "https://localhost:8080/"
        },
        "id": "5o0KCkxXw4UT",
        "outputId": "ba86c1f9-895f-4e27-af22-ef3a07cb4d29"
      },
      "outputs": [
        {
          "name": "stdout",
          "output_type": "stream",
          "text": [
            "Test set accuracy: 0.43\n",
            "Test set accuracy: 0.43\n",
            "              precision    recall  f1-score   support\n",
            "\n",
            "           0       0.42      0.47      0.45        36\n",
            "           1       0.44      0.44      0.44        32\n",
            "           2       0.43      0.38      0.40        32\n",
            "\n",
            "    accuracy                           0.43       100\n",
            "   macro avg       0.43      0.43      0.43       100\n",
            "weighted avg       0.43      0.43      0.43       100\n",
            "\n"
          ]
        }
      ],
      "source": [
        "from sklearn.tree import DecisionTreeClassifier # import DT\n",
        "from sklearn.metrics import accuracy_score, classification_report\n",
        "\n",
        "# Pembuatan model Decision Tree Classifier\n",
        "dt = DecisionTreeClassifier()\n",
        "\n",
        "# Sesuaikan dataset ke set training\n",
        "dt.fit(X_train, y_train)\n",
        "\n",
        "# Memprediksi label set test\n",
        "y_pred_dt = dt.predict(X_test)\n",
        "\n",
        "# Print hasil classification report\n",
        "acc_rf = accuracy_score(y_test, y_pred_dt)\n",
        "print(\"Test set accuracy: {:.2f}\".format(acc_rf))\n",
        "print(f\"Test set accuracy: {acc_rf}\")\n",
        "print(classification_report(y_test, y_pred_dt))"
      ]
    },
    {
      "cell_type": "markdown",
      "metadata": {
        "id": "i47kf9Cw1Lhl"
      },
      "source": [
        "##### Multinomial NB"
      ]
    },
    {
      "cell_type": "code",
      "execution_count": 164,
      "metadata": {
        "colab": {
          "base_uri": "https://localhost:8080/"
        },
        "id": "-oqwx-vxw4UU",
        "outputId": "825921bd-6b2f-494d-bcfc-35ae3b4af1b7"
      },
      "outputs": [
        {
          "name": "stdout",
          "output_type": "stream",
          "text": [
            "Hasil akurasi data train: 0.96\n",
            "Hasil akurasi data test: 0.41\n"
          ]
        }
      ],
      "source": [
        "#TRAINING DAN EVALUASI MODEL\n",
        "#Model yang saya gunakan adalah Algoritma Naive Bayes dengan Menggunakan fungsi MultinomialNB\n",
        "from sklearn.naive_bayes import MultinomialNB\n",
        "from sklearn.metrics import accuracy_score\n",
        "\n",
        "# Inisiasi MultinomialNB\n",
        "mnb = MultinomialNB()\n",
        "\n",
        "# Fit model\n",
        "mnb.fit(X_train, y_train)\n",
        "\n",
        "# Prediksi dengan data training\n",
        "y_pred_train = mnb.predict(X_train)\n",
        "\n",
        "# Evaluasi akurasi data training\n",
        "acc_train = accuracy_score(y_train, y_pred_train)\n",
        "\n",
        "# Prediksi dengan data training\n",
        "y_pred_test = mnb.predict(X_test)\n",
        "\n",
        "# Evaluasi akurasi data training\n",
        "acc_test = accuracy_score(y_test, y_pred_test)\n",
        "\n",
        "# Print hasil evaluasi\n",
        "print(f'Hasil akurasi data train: {acc_train}')\n",
        "print(f'Hasil akurasi data test: {acc_test}')"
      ]
    },
    {
      "cell_type": "markdown",
      "metadata": {
        "id": "sZnLfrTT2YeA"
      },
      "source": [
        "### 5. Prediksi sentimen data twitter"
      ]
    },
    {
      "cell_type": "code",
      "execution_count": 168,
      "metadata": {
        "colab": {
          "base_uri": "https://localhost:8080/"
        },
        "id": "mcu1usnpw4UZ",
        "outputId": "74e34ef4-9bc7-4434-e7f3-294c40cdad82"
      },
      "outputs": [],
      "source": [
        "import twint\n",
        "import nest_asyncio\n",
        "nest_asyncio.apply()\n",
        "\n",
        "# inisiasi obyek\n",
        "c = twint.Config()\n",
        "\n",
        "# config scrap\n",
        "c.Username = \"collegemenfess\"\n",
        "# c.Since = \"2022-12-04 00:00:00\"\n",
        "# c.Until = \"2022-12-11 00:00:00\"\n",
        "c.Limit = 500\n",
        "c.Store_csv = True\n",
        "c.Output = \"colle_scrap1.csv\"\n",
        "c.Hide_output = True\n",
        "\n",
        "# run scrap\n",
        "twint.run.Search(c)"
      ]
    },
    {
      "cell_type": "code",
      "execution_count": 144,
      "metadata": {
        "id": "CWHnRwkPw4Ua"
      },
      "outputs": [],
      "source": [
        "# load data baru\n",
        "dataset = pd.read_csv('colle_scrap1.csv')"
      ]
    },
    {
      "cell_type": "code",
      "execution_count": 145,
      "metadata": {
        "colab": {
          "base_uri": "https://localhost:8080/",
          "height": 363
        },
        "id": "NwtWeoHR3TvT",
        "outputId": "23949e62-d362-47d7-9230-d1f054918623"
      },
      "outputs": [
        {
          "data": {
            "text/html": [
              "<div>\n",
              "<style scoped>\n",
              "    .dataframe tbody tr th:only-of-type {\n",
              "        vertical-align: middle;\n",
              "    }\n",
              "\n",
              "    .dataframe tbody tr th {\n",
              "        vertical-align: top;\n",
              "    }\n",
              "\n",
              "    .dataframe thead th {\n",
              "        text-align: right;\n",
              "    }\n",
              "</style>\n",
              "<table border=\"1\" class=\"dataframe\">\n",
              "  <thead>\n",
              "    <tr style=\"text-align: right;\">\n",
              "      <th></th>\n",
              "      <th>tweet</th>\n",
              "    </tr>\n",
              "  </thead>\n",
              "  <tbody>\n",
              "    <tr>\n",
              "      <th>0</th>\n",
              "      <td>[cm] referensiku tahun 2013. pas dicek di sint...</td>\n",
              "    </tr>\n",
              "    <tr>\n",
              "      <th>1</th>\n",
              "      <td>[cm] yakinin aku, aku bisa sempro online sendi...</td>\n",
              "    </tr>\n",
              "    <tr>\n",
              "      <th>2</th>\n",
              "      <td>[cm] guys mau nanya, kalo pengutipan kayak \"me...</td>\n",
              "    </tr>\n",
              "    <tr>\n",
              "      <th>3</th>\n",
              "      <td>[cm] deket2 tahun baru dosen mulai cuti dari t...</td>\n",
              "    </tr>\n",
              "    <tr>\n",
              "      <th>4</th>\n",
              "      <td>Mau minta pendapatnya dong [cm]  lagi bimbang ...</td>\n",
              "    </tr>\n",
              "    <tr>\n",
              "      <th>5</th>\n",
              "      <td>Mau tanya dong, menurut kalian standar ip k  b...</td>\n",
              "    </tr>\n",
              "    <tr>\n",
              "      <th>6</th>\n",
              "      <td>[Cm] besok mau sidang akhir deg degan banget g...</td>\n",
              "    </tr>\n",
              "    <tr>\n",
              "      <th>7</th>\n",
              "      <td>tadi aku stalk search bar tentang sem-pls, tru...</td>\n",
              "    </tr>\n",
              "    <tr>\n",
              "      <th>8</th>\n",
              "      <td>[cm] kalian kalo liburan, tetep bayaar kosan n...</td>\n",
              "    </tr>\n",
              "    <tr>\n",
              "      <th>9</th>\n",
              "      <td>[cm] kalian yg skripsian dapet dospem yg kille...</td>\n",
              "    </tr>\n",
              "  </tbody>\n",
              "</table>\n",
              "</div>"
            ],
            "text/plain": [
              "                                               tweet\n",
              "0  [cm] referensiku tahun 2013. pas dicek di sint...\n",
              "1  [cm] yakinin aku, aku bisa sempro online sendi...\n",
              "2  [cm] guys mau nanya, kalo pengutipan kayak \"me...\n",
              "3  [cm] deket2 tahun baru dosen mulai cuti dari t...\n",
              "4  Mau minta pendapatnya dong [cm]  lagi bimbang ...\n",
              "5  Mau tanya dong, menurut kalian standar ip k  b...\n",
              "6  [Cm] besok mau sidang akhir deg degan banget g...\n",
              "7  tadi aku stalk search bar tentang sem-pls, tru...\n",
              "8  [cm] kalian kalo liburan, tetep bayaar kosan n...\n",
              "9  [cm] kalian yg skripsian dapet dospem yg kille..."
            ]
          },
          "execution_count": 145,
          "metadata": {},
          "output_type": "execute_result"
        }
      ],
      "source": [
        "# menghapus colom yang tidak digunakan\n",
        "dataset = dataset.drop(dataset.iloc[:,0:10], axis=1)\n",
        "dataset = dataset.drop(dataset.iloc[:,1:], axis=1)\n",
        "dataset.head(10)"
      ]
    },
    {
      "cell_type": "code",
      "execution_count": 146,
      "metadata": {
        "colab": {
          "base_uri": "https://localhost:8080/",
          "height": 206
        },
        "id": "f0ZC3xCF3rA2",
        "outputId": "711fa591-33ff-427f-aecd-43f9916dc686"
      },
      "outputs": [
        {
          "data": {
            "text/html": [
              "<div>\n",
              "<style scoped>\n",
              "    .dataframe tbody tr th:only-of-type {\n",
              "        vertical-align: middle;\n",
              "    }\n",
              "\n",
              "    .dataframe tbody tr th {\n",
              "        vertical-align: top;\n",
              "    }\n",
              "\n",
              "    .dataframe thead th {\n",
              "        text-align: right;\n",
              "    }\n",
              "</style>\n",
              "<table border=\"1\" class=\"dataframe\">\n",
              "  <thead>\n",
              "    <tr style=\"text-align: right;\">\n",
              "      <th></th>\n",
              "      <th>tweet</th>\n",
              "      <th>content</th>\n",
              "    </tr>\n",
              "  </thead>\n",
              "  <tbody>\n",
              "    <tr>\n",
              "      <th>0</th>\n",
              "      <td>[cm] referensiku tahun 2013. pas dicek di sint...</td>\n",
              "      <td>referensiku tahun  pas dicek di sinta udh s ta...</td>\n",
              "    </tr>\n",
              "    <tr>\n",
              "      <th>1</th>\n",
              "      <td>[cm] yakinin aku, aku bisa sempro online sendi...</td>\n",
              "      <td>yakinin aku aku bisa sempro online sendirian m...</td>\n",
              "    </tr>\n",
              "    <tr>\n",
              "      <th>2</th>\n",
              "      <td>[cm] guys mau nanya, kalo pengutipan kayak \"me...</td>\n",
              "      <td>guys mau nanya kalo pengutipan kayak menurut x...</td>\n",
              "    </tr>\n",
              "    <tr>\n",
              "      <th>3</th>\n",
              "      <td>[cm] deket2 tahun baru dosen mulai cuti dari t...</td>\n",
              "      <td>deket tahun baru dosen mulai cuti dari tgl brp ya</td>\n",
              "    </tr>\n",
              "    <tr>\n",
              "      <th>4</th>\n",
              "      <td>Mau minta pendapatnya dong [cm]  lagi bimbang ...</td>\n",
              "      <td>mau minta pendapatnya dong lagi bimbang banget</td>\n",
              "    </tr>\n",
              "  </tbody>\n",
              "</table>\n",
              "</div>"
            ],
            "text/plain": [
              "                                               tweet  \\\n",
              "0  [cm] referensiku tahun 2013. pas dicek di sint...   \n",
              "1  [cm] yakinin aku, aku bisa sempro online sendi...   \n",
              "2  [cm] guys mau nanya, kalo pengutipan kayak \"me...   \n",
              "3  [cm] deket2 tahun baru dosen mulai cuti dari t...   \n",
              "4  Mau minta pendapatnya dong [cm]  lagi bimbang ...   \n",
              "\n",
              "                                             content  \n",
              "0  referensiku tahun  pas dicek di sinta udh s ta...  \n",
              "1  yakinin aku aku bisa sempro online sendirian m...  \n",
              "2  guys mau nanya kalo pengutipan kayak menurut x...  \n",
              "3  deket tahun baru dosen mulai cuti dari tgl brp ya  \n",
              "4     mau minta pendapatnya dong lagi bimbang banget  "
            ]
          },
          "execution_count": 146,
          "metadata": {},
          "output_type": "execute_result"
        }
      ],
      "source": [
        "# Membuat kolom baru untuk hasil konten yang telah dilakukan preprocesing\n",
        "dataset['content'] = dataset['tweet'].apply(clean_lower).apply(clean_url).apply(clean_punct).apply(_normalize_whitespace).apply(remove_number)\n",
        "\n",
        "dataset.head()"
      ]
    },
    {
      "cell_type": "code",
      "execution_count": 147,
      "metadata": {
        "colab": {
          "base_uri": "https://localhost:8080/",
          "height": 206
        },
        "id": "i1msSFuK4LN5",
        "outputId": "fdc8857a-c8b9-4c0e-a023-2761f8e340b9"
      },
      "outputs": [
        {
          "data": {
            "text/html": [
              "<div>\n",
              "<style scoped>\n",
              "    .dataframe tbody tr th:only-of-type {\n",
              "        vertical-align: middle;\n",
              "    }\n",
              "\n",
              "    .dataframe tbody tr th {\n",
              "        vertical-align: top;\n",
              "    }\n",
              "\n",
              "    .dataframe thead th {\n",
              "        text-align: right;\n",
              "    }\n",
              "</style>\n",
              "<table border=\"1\" class=\"dataframe\">\n",
              "  <thead>\n",
              "    <tr style=\"text-align: right;\">\n",
              "      <th></th>\n",
              "      <th>tweet</th>\n",
              "      <th>content</th>\n",
              "      <th>encode content</th>\n",
              "    </tr>\n",
              "  </thead>\n",
              "  <tbody>\n",
              "    <tr>\n",
              "      <th>0</th>\n",
              "      <td>[cm] referensiku tahun 2013. pas dicek di sint...</td>\n",
              "      <td>referensiku tahun  pas dicek di sinta udh s ta...</td>\n",
              "      <td>414</td>\n",
              "    </tr>\n",
              "    <tr>\n",
              "      <th>1</th>\n",
              "      <td>[cm] yakinin aku, aku bisa sempro online sendi...</td>\n",
              "      <td>yakinin aku aku bisa sempro online sendirian m...</td>\n",
              "      <td>485</td>\n",
              "    </tr>\n",
              "    <tr>\n",
              "      <th>2</th>\n",
              "      <td>[cm] guys mau nanya, kalo pengutipan kayak \"me...</td>\n",
              "      <td>guys mau nanya kalo pengutipan kayak menurut x...</td>\n",
              "      <td>194</td>\n",
              "    </tr>\n",
              "    <tr>\n",
              "      <th>3</th>\n",
              "      <td>[cm] deket2 tahun baru dosen mulai cuti dari t...</td>\n",
              "      <td>deket tahun baru dosen mulai cuti dari tgl brp ya</td>\n",
              "      <td>107</td>\n",
              "    </tr>\n",
              "    <tr>\n",
              "      <th>4</th>\n",
              "      <td>Mau minta pendapatnya dong [cm]  lagi bimbang ...</td>\n",
              "      <td>mau minta pendapatnya dong lagi bimbang banget</td>\n",
              "      <td>359</td>\n",
              "    </tr>\n",
              "  </tbody>\n",
              "</table>\n",
              "</div>"
            ],
            "text/plain": [
              "                                               tweet  \\\n",
              "0  [cm] referensiku tahun 2013. pas dicek di sint...   \n",
              "1  [cm] yakinin aku, aku bisa sempro online sendi...   \n",
              "2  [cm] guys mau nanya, kalo pengutipan kayak \"me...   \n",
              "3  [cm] deket2 tahun baru dosen mulai cuti dari t...   \n",
              "4  Mau minta pendapatnya dong [cm]  lagi bimbang ...   \n",
              "\n",
              "                                             content  encode content  \n",
              "0  referensiku tahun  pas dicek di sinta udh s ta...             414  \n",
              "1  yakinin aku aku bisa sempro online sendirian m...             485  \n",
              "2  guys mau nanya kalo pengutipan kayak menurut x...             194  \n",
              "3  deket tahun baru dosen mulai cuti dari tgl brp ya             107  \n",
              "4     mau minta pendapatnya dong lagi bimbang banget             359  "
            ]
          },
          "execution_count": 147,
          "metadata": {},
          "output_type": "execute_result"
        }
      ],
      "source": [
        "# Clustering\n",
        "# membuat kolom baru, dan melakukan encode untuk mengonvert dataset ke numerik\n",
        "from sklearn.preprocessing import LabelEncoder\n",
        "\n",
        "encode = LabelEncoder()\n",
        "content = encode.fit_transform(dataset['content'])\n",
        "dataset_content = pd.DataFrame(content)\n",
        "\n",
        "dataset['encode content'] = dataset_content\n",
        "\n",
        "# cek data\n",
        "dataset.head()"
      ]
    },
    {
      "cell_type": "code",
      "execution_count": 148,
      "metadata": {
        "colab": {
          "base_uri": "https://localhost:8080/",
          "height": 206
        },
        "id": "Y_duDot_59Xm",
        "outputId": "e79b8d49-7044-4efc-dd7e-2300d1c00ce7"
      },
      "outputs": [
        {
          "data": {
            "text/html": [
              "<div>\n",
              "<style scoped>\n",
              "    .dataframe tbody tr th:only-of-type {\n",
              "        vertical-align: middle;\n",
              "    }\n",
              "\n",
              "    .dataframe tbody tr th {\n",
              "        vertical-align: top;\n",
              "    }\n",
              "\n",
              "    .dataframe thead th {\n",
              "        text-align: right;\n",
              "    }\n",
              "</style>\n",
              "<table border=\"1\" class=\"dataframe\">\n",
              "  <thead>\n",
              "    <tr style=\"text-align: right;\">\n",
              "      <th></th>\n",
              "      <th>content</th>\n",
              "      <th>jenis_komentar</th>\n",
              "    </tr>\n",
              "  </thead>\n",
              "  <tbody>\n",
              "    <tr>\n",
              "      <th>0</th>\n",
              "      <td>referensiku tahun  pas dicek di sinta udh s ta...</td>\n",
              "      <td>Negativ</td>\n",
              "    </tr>\n",
              "    <tr>\n",
              "      <th>1</th>\n",
              "      <td>yakinin aku aku bisa sempro online sendirian m...</td>\n",
              "      <td>Negativ</td>\n",
              "    </tr>\n",
              "    <tr>\n",
              "      <th>2</th>\n",
              "      <td>guys mau nanya kalo pengutipan kayak menurut x...</td>\n",
              "      <td>Netral</td>\n",
              "    </tr>\n",
              "    <tr>\n",
              "      <th>3</th>\n",
              "      <td>deket tahun baru dosen mulai cuti dari tgl brp ya</td>\n",
              "      <td>Positif</td>\n",
              "    </tr>\n",
              "    <tr>\n",
              "      <th>4</th>\n",
              "      <td>mau minta pendapatnya dong lagi bimbang banget</td>\n",
              "      <td>Negativ</td>\n",
              "    </tr>\n",
              "  </tbody>\n",
              "</table>\n",
              "</div>"
            ],
            "text/plain": [
              "                                             content jenis_komentar\n",
              "0  referensiku tahun  pas dicek di sinta udh s ta...        Negativ\n",
              "1  yakinin aku aku bisa sempro online sendirian m...        Negativ\n",
              "2  guys mau nanya kalo pengutipan kayak menurut x...         Netral\n",
              "3  deket tahun baru dosen mulai cuti dari tgl brp ya        Positif\n",
              "4     mau minta pendapatnya dong lagi bimbang banget        Negativ"
            ]
          },
          "execution_count": 148,
          "metadata": {},
          "output_type": "execute_result"
        }
      ],
      "source": [
        "# menentukan colom mana yang digunakan sebagai features untuk data scaling\n",
        "dataset_columns = pd.DataFrame({\n",
        "    'encode content': dataset['encode content']\n",
        "})\n",
        "\n",
        "col_names = dataset_columns.columns\n",
        "features = dataset_columns[col_names]\n",
        "\n",
        "# scalling data\n",
        "from sklearn.preprocessing import StandardScaler\n",
        "\n",
        "# proses scaling berdasarkan features yang telah ditentukan\n",
        "scaler = StandardScaler()\n",
        "scaler.fit(features.values)\n",
        "dataset_scaled = scaler.transform(features.values)\n",
        "\n",
        "# hasil dari scalling nantinya akan ditampung di variabel dataset_scaled\n",
        "dataset_scaled = pd.DataFrame(dataset_scaled, columns=col_names)\n",
        "\n",
        "# Menentukkan jumlah cluster menggunakan library k-means\n",
        "from sklearn.cluster import KMeans\n",
        "\n",
        "# disini kami tentukkan n nya 3 karena ada 3 jenis komentar yaitu positif.negatif,netral. \n",
        "km = KMeans(n_clusters=3)\n",
        "y_predicted = km.fit_predict(dataset_scaled[['encode content']])\n",
        "y_predicted\n",
        "\n",
        "# untuk menampung hasil clustering\n",
        "dataset_columns['jenis_Komentar'] = y_predicted\n",
        "\n",
        "# Membuat fungsi untuk menentukan jenis komentar\n",
        "dataset1 = dataset_columns[dataset_columns.jenis_Komentar==0]\n",
        "dataset2 = dataset_columns[dataset_columns.jenis_Komentar==1]\n",
        "dataset3 = dataset_columns[dataset_columns.jenis_Komentar==2]\n",
        "\n",
        "# menentukkan jenis komentar yang berniali 0 itu positif , 1 negatif dan 2 netral\n",
        "conditions = [\n",
        "    (dataset_columns['jenis_Komentar']==0),\n",
        "    (dataset_columns['jenis_Komentar']==1),\n",
        "    (dataset_columns['jenis_Komentar']==2)]\n",
        "choices = ['Positif','Negativ','Netral']\n",
        "dataset_columns['jenis_Komentar'] = np.select(conditions, choices)\n",
        "\n",
        "# menambahkan kolom baru yaitu jenis_kolom komentar dimana isi datanya mengambil dari hasil clusteriing  \n",
        "dataset['jenis_komentar'] = dataset_columns['jenis_Komentar']\n",
        "\n",
        "dataset = pd.DataFrame({\n",
        "    'content': dataset['content'],\n",
        "    'jenis_komentar': dataset['jenis_komentar']\n",
        "})\n",
        "dataset.head()"
      ]
    },
    {
      "cell_type": "code",
      "execution_count": 149,
      "metadata": {
        "colab": {
          "base_uri": "https://localhost:8080/",
          "height": 206
        },
        "id": "rHILA-_s6RwK",
        "outputId": "0e6bba2d-38f6-46c0-bc96-b3e740898635"
      },
      "outputs": [
        {
          "data": {
            "text/html": [
              "<div>\n",
              "<style scoped>\n",
              "    .dataframe tbody tr th:only-of-type {\n",
              "        vertical-align: middle;\n",
              "    }\n",
              "\n",
              "    .dataframe tbody tr th {\n",
              "        vertical-align: top;\n",
              "    }\n",
              "\n",
              "    .dataframe thead th {\n",
              "        text-align: right;\n",
              "    }\n",
              "</style>\n",
              "<table border=\"1\" class=\"dataframe\">\n",
              "  <thead>\n",
              "    <tr style=\"text-align: right;\">\n",
              "      <th></th>\n",
              "      <th>content</th>\n",
              "      <th>Labels</th>\n",
              "    </tr>\n",
              "  </thead>\n",
              "  <tbody>\n",
              "    <tr>\n",
              "      <th>0</th>\n",
              "      <td>referensiku tahun  pas dicek di sinta udh s ta...</td>\n",
              "      <td>Negativ</td>\n",
              "    </tr>\n",
              "    <tr>\n",
              "      <th>1</th>\n",
              "      <td>yakinin aku aku bisa sempro online sendirian m...</td>\n",
              "      <td>Negativ</td>\n",
              "    </tr>\n",
              "    <tr>\n",
              "      <th>2</th>\n",
              "      <td>guys mau nanya kalo pengutipan kayak menurut x...</td>\n",
              "      <td>Netral</td>\n",
              "    </tr>\n",
              "    <tr>\n",
              "      <th>3</th>\n",
              "      <td>deket tahun baru dosen mulai cuti dari tgl brp ya</td>\n",
              "      <td>Positif</td>\n",
              "    </tr>\n",
              "    <tr>\n",
              "      <th>4</th>\n",
              "      <td>mau minta pendapatnya dong lagi bimbang banget</td>\n",
              "      <td>Negativ</td>\n",
              "    </tr>\n",
              "  </tbody>\n",
              "</table>\n",
              "</div>"
            ],
            "text/plain": [
              "                                             content   Labels\n",
              "0  referensiku tahun  pas dicek di sinta udh s ta...  Negativ\n",
              "1  yakinin aku aku bisa sempro online sendirian m...  Negativ\n",
              "2  guys mau nanya kalo pengutipan kayak menurut x...   Netral\n",
              "3  deket tahun baru dosen mulai cuti dari tgl brp ya  Positif\n",
              "4     mau minta pendapatnya dong lagi bimbang banget  Negativ"
            ]
          },
          "execution_count": 149,
          "metadata": {},
          "output_type": "execute_result"
        }
      ],
      "source": [
        "# Labeling\n",
        "# Memilih Data mana yang akan digunakan\n",
        "dataset = pd.DataFrame({\n",
        "    'content' : dataset['content'],\n",
        "    'jenis_komentar' : dataset['jenis_komentar']\n",
        "})\n",
        "\n",
        "new_cols = {\n",
        "    'jenis_komentar' : 'Labels',\n",
        "\n",
        "}\n",
        "#rename nama kolom jenis_komentar\n",
        "dataset = dataset.rename(columns=new_cols)\n",
        "\n",
        "dataset.head()"
      ]
    },
    {
      "cell_type": "code",
      "execution_count": 150,
      "metadata": {
        "colab": {
          "base_uri": "https://localhost:8080/",
          "height": 206
        },
        "id": "-iUWQlE76Ztu",
        "outputId": "4315d60d-f69e-4384-9ec5-c08e03a029e3"
      },
      "outputs": [
        {
          "data": {
            "text/html": [
              "<div>\n",
              "<style scoped>\n",
              "    .dataframe tbody tr th:only-of-type {\n",
              "        vertical-align: middle;\n",
              "    }\n",
              "\n",
              "    .dataframe tbody tr th {\n",
              "        vertical-align: top;\n",
              "    }\n",
              "\n",
              "    .dataframe thead th {\n",
              "        text-align: right;\n",
              "    }\n",
              "</style>\n",
              "<table border=\"1\" class=\"dataframe\">\n",
              "  <thead>\n",
              "    <tr style=\"text-align: right;\">\n",
              "      <th></th>\n",
              "      <th>content</th>\n",
              "      <th>Labels</th>\n",
              "    </tr>\n",
              "  </thead>\n",
              "  <tbody>\n",
              "    <tr>\n",
              "      <th>0</th>\n",
              "      <td>referensiku tahun  pas dicek di sinta udh s ta...</td>\n",
              "      <td>0</td>\n",
              "    </tr>\n",
              "    <tr>\n",
              "      <th>1</th>\n",
              "      <td>yakinin aku aku bisa sempro online sendirian m...</td>\n",
              "      <td>0</td>\n",
              "    </tr>\n",
              "    <tr>\n",
              "      <th>2</th>\n",
              "      <td>guys mau nanya kalo pengutipan kayak menurut x...</td>\n",
              "      <td>1</td>\n",
              "    </tr>\n",
              "    <tr>\n",
              "      <th>3</th>\n",
              "      <td>deket tahun baru dosen mulai cuti dari tgl brp ya</td>\n",
              "      <td>2</td>\n",
              "    </tr>\n",
              "    <tr>\n",
              "      <th>4</th>\n",
              "      <td>mau minta pendapatnya dong lagi bimbang banget</td>\n",
              "      <td>0</td>\n",
              "    </tr>\n",
              "  </tbody>\n",
              "</table>\n",
              "</div>"
            ],
            "text/plain": [
              "                                             content  Labels\n",
              "0  referensiku tahun  pas dicek di sinta udh s ta...       0\n",
              "1  yakinin aku aku bisa sempro online sendirian m...       0\n",
              "2  guys mau nanya kalo pengutipan kayak menurut x...       1\n",
              "3  deket tahun baru dosen mulai cuti dari tgl brp ya       2\n",
              "4     mau minta pendapatnya dong lagi bimbang banget       0"
            ]
          },
          "execution_count": 150,
          "metadata": {},
          "output_type": "execute_result"
        }
      ],
      "source": [
        "# Mengubah data kategorik menjadi data numerik \n",
        "from sklearn.preprocessing import LabelEncoder\n",
        "\n",
        "encode = LabelEncoder()\n",
        "dataset['Labels'] = encode.fit_transform(dataset['Labels'])\n",
        "\n",
        "# cek data\n",
        "dataset.head()"
      ]
    },
    {
      "cell_type": "code",
      "execution_count": 151,
      "metadata": {
        "id": "LFy3GdIC6lWG"
      },
      "outputs": [],
      "source": [
        "# Memisahkan Fitur dengan Label\n",
        "X = dataset['content']\n",
        "y = dataset['Labels']"
      ]
    },
    {
      "cell_type": "code",
      "execution_count": 152,
      "metadata": {
        "id": "idiVgecV6ytl"
      },
      "outputs": [],
      "source": [
        "# Split data training dan testing\n",
        "from sklearn.model_selection import train_test_split\n",
        "\n",
        "X_train, X_test, y_train, y_test = train_test_split(X, y, test_size=0.2, random_state=1)"
      ]
    },
    {
      "cell_type": "code",
      "execution_count": 159,
      "metadata": {
        "id": "k6ZRO1tn61id"
      },
      "outputs": [
        {
          "data": {
            "text/plain": [
              "(400, 2136)"
            ]
          },
          "execution_count": 159,
          "metadata": {},
          "output_type": "execute_result"
        }
      ],
      "source": [
        "# Ekstrasi Fitur menggunakan Bag of Words dengan fungsi CountVectorizer \n",
        "from sklearn.model_selection import train_test_split\n",
        "from sklearn.feature_extraction.text import CountVectorizer\n",
        "\n",
        "# Split data training dan testing\n",
        "X_train, X_test, y_train, y_test = train_test_split(X, y, test_size=0.2, random_state=50)\n",
        "\n",
        "# Inisiasi CountVectorizer\n",
        "bow = CountVectorizer(stop_words='english')\n",
        "\n",
        "# Fitting dan transform X_train dengan CountVectorizer\n",
        "X_train = bow.fit_transform(X_train)\n",
        "\n",
        "# Transform X_test\n",
        "X_test = bow.transform(X_test)\n",
        "\n",
        "X_train.shape\n",
        "# X_test.shape"
      ]
    },
    {
      "cell_type": "code",
      "execution_count": 165,
      "metadata": {
        "colab": {
          "base_uri": "https://localhost:8080/"
        },
        "id": "WIjAsW0C7BAM",
        "outputId": "a99a877c-35da-48d5-b944-f8fc10d3822c"
      },
      "outputs": [
        {
          "name": "stdout",
          "output_type": "stream",
          "text": [
            "Test set accuracy: 0.43\n",
            "Test set accuracy: 0.43\n",
            "              precision    recall  f1-score   support\n",
            "\n",
            "           0       0.42      0.47      0.45        36\n",
            "           1       0.44      0.44      0.44        32\n",
            "           2       0.43      0.38      0.40        32\n",
            "\n",
            "    accuracy                           0.43       100\n",
            "   macro avg       0.43      0.43      0.43       100\n",
            "weighted avg       0.43      0.43      0.43       100\n",
            "\n"
          ]
        }
      ],
      "source": [
        "# Memprediksi label set test\n",
        "y_pred_dt = dt.predict(X_test)\n",
        "\n",
        "# Print hasil classification report\n",
        "acc_rf = accuracy_score(y_test, y_pred_dt)\n",
        "print(\"Test set accuracy: {:.2f}\".format(acc_rf))\n",
        "print(f\"Test set accuracy: {acc_rf}\")\n",
        "print(classification_report(y_test, y_pred_dt))"
      ]
    },
    {
      "cell_type": "code",
      "execution_count": 166,
      "metadata": {
        "colab": {
          "base_uri": "https://localhost:8080/"
        },
        "id": "VvfUSniq7LlS",
        "outputId": "5ee75150-eca3-41d9-8f9f-c272876b73cf"
      },
      "outputs": [
        {
          "name": "stdout",
          "output_type": "stream",
          "text": [
            "Hasil akurasi data train: 0.96\n",
            "Hasil akurasi data test: 0.41\n"
          ]
        }
      ],
      "source": [
        "# Prediksi dengan data training\n",
        "y_pred_train = mnb.predict(X_train)\n",
        "\n",
        "# Evaluasi akurasi data training\n",
        "acc_train = accuracy_score(y_train, y_pred_train)\n",
        "\n",
        "# Prediksi dengan data training\n",
        "y_pred_test = mnb.predict(X_test)\n",
        "\n",
        "# Evaluasi akurasi data training\n",
        "acc_test = accuracy_score(y_test, y_pred_test)\n",
        "\n",
        "# Print hasil evaluasi\n",
        "print(f'Hasil akurasi data train: {acc_train}')\n",
        "print(f'Hasil akurasi data test: {acc_test}')"
      ]
    }
  ],
  "metadata": {
    "colab": {
      "provenance": []
    },
    "kernelspec": {
      "display_name": "base",
      "language": "python",
      "name": "python3"
    },
    "language_info": {
      "codemirror_mode": {
        "name": "ipython",
        "version": 3
      },
      "file_extension": ".py",
      "mimetype": "text/x-python",
      "name": "python",
      "nbconvert_exporter": "python",
      "pygments_lexer": "ipython3",
      "version": "3.9.12"
    },
    "orig_nbformat": 4,
    "vscode": {
      "interpreter": {
        "hash": "dc1718d5e9cbc784440f7ae28d2a973b9c8ec3d31c0fde63e86c42a145b53cfb"
      }
    }
  },
  "nbformat": 4,
  "nbformat_minor": 0
}
